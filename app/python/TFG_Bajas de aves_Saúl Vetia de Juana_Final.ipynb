{
 "cells": [
  {
   "cell_type": "markdown",
   "metadata": {},
   "source": [
    "# ---------------------------------------------------------------------------------------------------------\n",
    "# Librerías\n",
    "# ---------------------------------------------------------------------------------------------------------"
   ]
  },
  {
   "cell_type": "code",
   "execution_count": 1,
   "metadata": {},
   "outputs": [
    {
     "name": "stderr",
     "output_type": "stream",
     "text": [
      "C:\\Users\\Saul\\anaconda3\\lib\\site-packages\\scipy\\__init__.py:138: UserWarning: A NumPy version >=1.16.5 and <1.23.0 is required for this version of SciPy (detected version 1.23.0)\n",
      "  warnings.warn(f\"A NumPy version >={np_minversion} and <{np_maxversion} is required for this version of \"\n"
     ]
    }
   ],
   "source": [
    "import urllib.request\n",
    "import os\n",
    "import zipfile\n",
    "\n",
    "import matplotlib.image as mpimg\n",
    "import matplotlib.pyplot as plt\n",
    "\n",
    "\n",
    "import tensorflow as tf\n",
    "\n",
    "from tensorflow.keras.optimizers import RMSprop\n",
    "from tensorflow.keras.preprocessing.image import ImageDataGenerator\n",
    "from tensorflow.keras.preprocessing import image\n",
    "\n",
    "\n",
    "import numpy as np"
   ]
  },
  {
   "cell_type": "markdown",
   "metadata": {},
   "source": [
    "## Ubicación de imágenes de modelo y de test."
   ]
  },
  {
   "cell_type": "code",
   "execution_count": 2,
   "metadata": {},
   "outputs": [],
   "source": [
    "#Directorio base\n",
    "script_dir = os.path.dirname('__file__')\n",
    "rel_path = \"Fotos_Proyecto_Detección_de_Bajas\"\n",
    "base_dir = os.path.join(script_dir, rel_path)\n",
    "\n",
    "train_dir = os.path.join(base_dir, 'Entrenamiento')\n",
    "validation_dir = os.path.join(base_dir, 'Validacion')\n",
    "\n",
    "# Directorio con las fotos de gallinas clasificadas\n",
    "train_alive_dir = os.path.join(train_dir, 'Gallinas_vivas')\n",
    "train_dead_dir = os.path.join(train_dir, 'Gallinas_muertas')\n",
    "\n",
    "# Directorio con las imágenes de modelo\n",
    "validation_alive_dir = os.path.join(validation_dir, 'Gallinas_vivas')\n",
    "validation_dead_dir = os.path.join(validation_dir, 'Gallinas_muertas')"
   ]
  },
  {
   "cell_type": "markdown",
   "metadata": {},
   "source": [
    "### Ruta para guardar el modelo"
   ]
  },
  {
   "cell_type": "code",
   "execution_count": 3,
   "metadata": {},
   "outputs": [],
   "source": [
    "model_path = 'Modelo_guardado'\n",
    "model_dir = os.path.dirname(model_path)"
   ]
  },
  {
   "cell_type": "markdown",
   "metadata": {},
   "source": [
    "# ---------------------------------------------------------------------------------------------------------\n",
    "# PREPROCESAMIENTO DE LOS DATOS\n",
    "# ---------------------------------------------------------------------------------------------------------"
   ]
  },
  {
   "cell_type": "markdown",
   "metadata": {},
   "source": [
    "### Versión final"
   ]
  },
  {
   "cell_type": "code",
   "execution_count": 4,
   "metadata": {},
   "outputs": [],
   "source": [
    "model = tf.keras.models.Sequential([\n",
    "    # tf.keras.layers.Conv2D(filtros, tamaño_kernel, activacion, input_shape)\n",
    "    # input_size es la forma deseada de la imagen (150x150) con 3 bytes de color\n",
    "    # Bloque de convolución 1\n",
    "    tf.keras.layers.Conv2D(80, (3,3), activation='relu', input_shape=(150, 150, 3)),\n",
    "    tf.keras.layers.MaxPooling2D(2,2),\n",
    "    \n",
    "    # Bloque de convolución 2\n",
    "    tf.keras.layers.Conv2D(100, (3,3), activation='relu'),\n",
    "    tf.keras.layers.MaxPooling2D(2,2), \n",
    "    \n",
    "    # Bloque de convolución 3\n",
    "    tf.keras.layers.Conv2D(100, (3,3), activation='relu'),\n",
    "    tf.keras.layers.Conv2D(100, (3,3), activation='relu'), \n",
    "    tf.keras.layers.MaxPooling2D(2,2),\n",
    "    \n",
    "    #Dropout\n",
    "    tf.keras.layers.Dropout(0.25),\n",
    "    \n",
    "    # \"Aplana\" los resultados para pasárselos a una DNN (Deep neural network)\n",
    "    tf.keras.layers.Flatten(), \n",
    "    \n",
    "    # Capas fully connected\n",
    "    tf.keras.layers.Dense(256, activation='relu'),\n",
    "    tf.keras.layers.Dense(32, activation='relu'),\n",
    "    \n",
    "    # Neurona de salida que devuelve dos valores: 0 para gallinas muertas y 1 para gallinas vivas.\n",
    "    tf.keras.layers.Dense(1, activation='sigmoid')  \n",
    "])"
   ]
  },
  {
   "cell_type": "code",
   "execution_count": 5,
   "metadata": {},
   "outputs": [],
   "source": [
    "from tensorflow.keras.optimizers import RMSprop\n",
    "\n",
    "model.compile(optimizer=RMSprop(learning_rate=0.001),\n",
    "              loss='binary_crossentropy',\n",
    "              metrics = ['accuracy'])"
   ]
  },
  {
   "cell_type": "code",
   "execution_count": 6,
   "metadata": {},
   "outputs": [
    {
     "name": "stdout",
     "output_type": "stream",
     "text": [
      "Found 161 images belonging to 2 classes.\n",
      "Found 70 images belonging to 2 classes.\n"
     ]
    }
   ],
   "source": [
    "# DATA AUGMENTATION: ROTACIÓN, BRILLO, VOLTEO, REESCALADO\n",
    "train_datagen = ImageDataGenerator(rotation_range=90, \n",
    "                                   brightness_range=(0.2, 0.8), \n",
    "                                   horizontal_flip=True, \n",
    "                                   vertical_flip=True, \n",
    "                                   rescale = 1.0/255.)\n",
    "\n",
    "test_datagen  = ImageDataGenerator( rescale = 1.0/255. )\n",
    "\n",
    "# ------------------------------------------------------------------------\n",
    "# Entrenamiento de las imágenes en lotes de 5 utilizando \"train_datagen\"\n",
    "# ------------------------------------------------------------------------\n",
    "train_generator = train_datagen.flow_from_directory(train_dir,\n",
    "                                                    batch_size=5,\n",
    "                                                    class_mode='binary',\n",
    "                                                    target_size=(150, 150))     \n",
    "\n",
    "# ------------------------------------------------------------------------\n",
    "# Validación de las imágenes en lotes de 5 utilizando \"test_datagen\"\n",
    "# ------------------------------------------------------------------------\n",
    "validation_generator =  test_datagen.flow_from_directory(validation_dir,\n",
    "                                                         batch_size=5,\n",
    "                                                         class_mode  = 'binary',\n",
    "                                                         target_size = (150, 150))"
   ]
  },
  {
   "cell_type": "markdown",
   "metadata": {},
   "source": [
    "## Entrenamiento"
   ]
  },
  {
   "cell_type": "code",
   "execution_count": 7,
   "metadata": {},
   "outputs": [
    {
     "name": "stdout",
     "output_type": "stream",
     "text": [
      "Epoch 1/100\n",
      "33/33 - 59s - loss: 0.7395 - accuracy: 0.7143 - val_loss: 0.6844 - val_accuracy: 0.7286 - 59s/epoch - 2s/step\n",
      "Epoch 2/100\n",
      "33/33 - 58s - loss: 0.6209 - accuracy: 0.7391 - val_loss: 0.7915 - val_accuracy: 0.7286 - 58s/epoch - 2s/step\n",
      "Epoch 3/100\n",
      "33/33 - 57s - loss: 0.6484 - accuracy: 0.7391 - val_loss: 0.5952 - val_accuracy: 0.7286 - 57s/epoch - 2s/step\n",
      "Epoch 4/100\n",
      "33/33 - 60s - loss: 0.6096 - accuracy: 0.7391 - val_loss: 0.6043 - val_accuracy: 0.7286 - 60s/epoch - 2s/step\n",
      "Epoch 5/100\n",
      "33/33 - 57s - loss: 0.6696 - accuracy: 0.7391 - val_loss: 0.6052 - val_accuracy: 0.7286 - 57s/epoch - 2s/step\n",
      "Epoch 6/100\n",
      "33/33 - 57s - loss: 0.6163 - accuracy: 0.7391 - val_loss: 0.5983 - val_accuracy: 0.7286 - 57s/epoch - 2s/step\n",
      "Epoch 7/100\n",
      "33/33 - 57s - loss: 0.6102 - accuracy: 0.7391 - val_loss: 0.5859 - val_accuracy: 0.7286 - 57s/epoch - 2s/step\n",
      "Epoch 8/100\n",
      "33/33 - 56s - loss: 0.5862 - accuracy: 0.7391 - val_loss: 0.5930 - val_accuracy: 0.7286 - 56s/epoch - 2s/step\n",
      "Epoch 9/100\n",
      "33/33 - 56s - loss: 0.5985 - accuracy: 0.7391 - val_loss: 0.6009 - val_accuracy: 0.7286 - 56s/epoch - 2s/step\n",
      "Epoch 10/100\n",
      "33/33 - 56s - loss: 0.5956 - accuracy: 0.7391 - val_loss: 0.6058 - val_accuracy: 0.7286 - 56s/epoch - 2s/step\n",
      "Epoch 11/100\n",
      "33/33 - 56s - loss: 0.6105 - accuracy: 0.7391 - val_loss: 0.6007 - val_accuracy: 0.7286 - 56s/epoch - 2s/step\n",
      "Epoch 12/100\n",
      "33/33 - 57s - loss: 0.6089 - accuracy: 0.7391 - val_loss: 0.6033 - val_accuracy: 0.7286 - 57s/epoch - 2s/step\n",
      "Epoch 13/100\n",
      "33/33 - 56s - loss: 0.6076 - accuracy: 0.7391 - val_loss: 0.5905 - val_accuracy: 0.7286 - 56s/epoch - 2s/step\n",
      "Epoch 14/100\n",
      "33/33 - 57s - loss: 0.5822 - accuracy: 0.7391 - val_loss: 0.5939 - val_accuracy: 0.7286 - 57s/epoch - 2s/step\n",
      "Epoch 15/100\n",
      "33/33 - 56s - loss: 0.5680 - accuracy: 0.7391 - val_loss: 0.6040 - val_accuracy: 0.7286 - 56s/epoch - 2s/step\n",
      "Epoch 16/100\n",
      "33/33 - 56s - loss: 0.6141 - accuracy: 0.7391 - val_loss: 0.5876 - val_accuracy: 0.7286 - 56s/epoch - 2s/step\n",
      "Epoch 17/100\n",
      "33/33 - 57s - loss: 0.5951 - accuracy: 0.7391 - val_loss: 0.5846 - val_accuracy: 0.7286 - 57s/epoch - 2s/step\n",
      "Epoch 18/100\n",
      "33/33 - 58s - loss: 0.6101 - accuracy: 0.7391 - val_loss: 0.5948 - val_accuracy: 0.7286 - 58s/epoch - 2s/step\n",
      "Epoch 19/100\n",
      "33/33 - 56s - loss: 0.6025 - accuracy: 0.7391 - val_loss: 0.5890 - val_accuracy: 0.7286 - 56s/epoch - 2s/step\n",
      "Epoch 20/100\n",
      "33/33 - 56s - loss: 0.6131 - accuracy: 0.7391 - val_loss: 0.5871 - val_accuracy: 0.7286 - 56s/epoch - 2s/step\n",
      "Epoch 21/100\n",
      "33/33 - 56s - loss: 0.5823 - accuracy: 0.7391 - val_loss: 0.5870 - val_accuracy: 0.7286 - 56s/epoch - 2s/step\n",
      "Epoch 22/100\n",
      "33/33 - 56s - loss: 0.6050 - accuracy: 0.7391 - val_loss: 0.5850 - val_accuracy: 0.7286 - 56s/epoch - 2s/step\n",
      "Epoch 23/100\n",
      "33/33 - 57s - loss: 0.6448 - accuracy: 0.7391 - val_loss: 0.5959 - val_accuracy: 0.7286 - 57s/epoch - 2s/step\n",
      "Epoch 24/100\n",
      "33/33 - 56s - loss: 0.5854 - accuracy: 0.7391 - val_loss: 0.6366 - val_accuracy: 0.7286 - 56s/epoch - 2s/step\n",
      "Epoch 25/100\n",
      "33/33 - 56s - loss: 0.7589 - accuracy: 0.7391 - val_loss: 0.5866 - val_accuracy: 0.7286 - 56s/epoch - 2s/step\n",
      "Epoch 26/100\n",
      "33/33 - 56s - loss: 0.5970 - accuracy: 0.7391 - val_loss: 0.6027 - val_accuracy: 0.7286 - 56s/epoch - 2s/step\n",
      "Epoch 27/100\n",
      "33/33 - 56s - loss: 0.5777 - accuracy: 0.7391 - val_loss: 0.6297 - val_accuracy: 0.7286 - 56s/epoch - 2s/step\n",
      "Epoch 28/100\n",
      "33/33 - 56s - loss: 0.6510 - accuracy: 0.7391 - val_loss: 0.6263 - val_accuracy: 0.7286 - 56s/epoch - 2s/step\n",
      "Epoch 29/100\n",
      "33/33 - 56s - loss: 0.5975 - accuracy: 0.7391 - val_loss: 0.5855 - val_accuracy: 0.7286 - 56s/epoch - 2s/step\n",
      "Epoch 30/100\n",
      "33/33 - 56s - loss: 0.6023 - accuracy: 0.7391 - val_loss: 0.5903 - val_accuracy: 0.7286 - 56s/epoch - 2s/step\n",
      "Epoch 31/100\n",
      "33/33 - 57s - loss: 0.5769 - accuracy: 0.7391 - val_loss: 0.5918 - val_accuracy: 0.7286 - 57s/epoch - 2s/step\n",
      "Epoch 32/100\n",
      "33/33 - 56s - loss: 0.5796 - accuracy: 0.7391 - val_loss: 0.6086 - val_accuracy: 0.7286 - 56s/epoch - 2s/step\n",
      "Epoch 33/100\n",
      "33/33 - 57s - loss: 0.5909 - accuracy: 0.7391 - val_loss: 0.5931 - val_accuracy: 0.7286 - 57s/epoch - 2s/step\n",
      "Epoch 34/100\n",
      "33/33 - 57s - loss: 0.5912 - accuracy: 0.7391 - val_loss: 0.5875 - val_accuracy: 0.7286 - 57s/epoch - 2s/step\n",
      "Epoch 35/100\n",
      "33/33 - 57s - loss: 0.6037 - accuracy: 0.7391 - val_loss: 0.5947 - val_accuracy: 0.7286 - 57s/epoch - 2s/step\n",
      "Epoch 36/100\n",
      "33/33 - 57s - loss: 0.5669 - accuracy: 0.7391 - val_loss: 0.6269 - val_accuracy: 0.7286 - 57s/epoch - 2s/step\n",
      "Epoch 37/100\n",
      "33/33 - 56s - loss: 0.5900 - accuracy: 0.7391 - val_loss: 0.6086 - val_accuracy: 0.7286 - 56s/epoch - 2s/step\n",
      "Epoch 38/100\n",
      "33/33 - 56s - loss: 0.6029 - accuracy: 0.7391 - val_loss: 0.5991 - val_accuracy: 0.7286 - 56s/epoch - 2s/step\n",
      "Epoch 39/100\n",
      "33/33 - 56s - loss: 0.5839 - accuracy: 0.7391 - val_loss: 0.6230 - val_accuracy: 0.7286 - 56s/epoch - 2s/step\n",
      "Epoch 40/100\n",
      "33/33 - 57s - loss: 0.6085 - accuracy: 0.7391 - val_loss: 0.6009 - val_accuracy: 0.7286 - 57s/epoch - 2s/step\n",
      "Epoch 41/100\n",
      "33/33 - 56s - loss: 0.6285 - accuracy: 0.7391 - val_loss: 0.6077 - val_accuracy: 0.7286 - 56s/epoch - 2s/step\n",
      "Epoch 42/100\n",
      "33/33 - 57s - loss: 0.5795 - accuracy: 0.7391 - val_loss: 0.5999 - val_accuracy: 0.7286 - 57s/epoch - 2s/step\n",
      "Epoch 43/100\n",
      "33/33 - 57s - loss: 0.5813 - accuracy: 0.7391 - val_loss: 0.6361 - val_accuracy: 0.7286 - 57s/epoch - 2s/step\n",
      "Epoch 44/100\n",
      "33/33 - 57s - loss: 0.6064 - accuracy: 0.7391 - val_loss: 0.6113 - val_accuracy: 0.7286 - 57s/epoch - 2s/step\n",
      "Epoch 45/100\n",
      "33/33 - 57s - loss: 0.5832 - accuracy: 0.7391 - val_loss: 0.5875 - val_accuracy: 0.7286 - 57s/epoch - 2s/step\n",
      "Epoch 46/100\n",
      "33/33 - 57s - loss: 0.5982 - accuracy: 0.7391 - val_loss: 0.5665 - val_accuracy: 0.7286 - 57s/epoch - 2s/step\n",
      "Epoch 47/100\n",
      "33/33 - 56s - loss: 0.5923 - accuracy: 0.7329 - val_loss: 0.7075 - val_accuracy: 0.7429 - 56s/epoch - 2s/step\n",
      "Epoch 48/100\n",
      "33/33 - 56s - loss: 0.4971 - accuracy: 0.7578 - val_loss: 0.5685 - val_accuracy: 0.6857 - 56s/epoch - 2s/step\n",
      "Epoch 49/100\n",
      "33/33 - 57s - loss: 0.5064 - accuracy: 0.7702 - val_loss: 0.5189 - val_accuracy: 0.7571 - 57s/epoch - 2s/step\n",
      "Epoch 50/100\n",
      "33/33 - 56s - loss: 0.6260 - accuracy: 0.7453 - val_loss: 0.5230 - val_accuracy: 0.6857 - 56s/epoch - 2s/step\n",
      "Epoch 51/100\n",
      "33/33 - 57s - loss: 0.5311 - accuracy: 0.7640 - val_loss: 0.5298 - val_accuracy: 0.7571 - 57s/epoch - 2s/step\n",
      "Epoch 52/100\n",
      "33/33 - 57s - loss: 0.4866 - accuracy: 0.7950 - val_loss: 0.5972 - val_accuracy: 0.6857 - 57s/epoch - 2s/step\n",
      "Epoch 53/100\n",
      "33/33 - 58s - loss: 0.4894 - accuracy: 0.7702 - val_loss: 1.1622 - val_accuracy: 0.7286 - 58s/epoch - 2s/step\n",
      "Epoch 54/100\n",
      "33/33 - 58s - loss: 0.4541 - accuracy: 0.7764 - val_loss: 0.7187 - val_accuracy: 0.7286 - 58s/epoch - 2s/step\n",
      "Epoch 55/100\n",
      "33/33 - 60s - loss: 0.6241 - accuracy: 0.8012 - val_loss: 0.6994 - val_accuracy: 0.7429 - 60s/epoch - 2s/step\n",
      "Epoch 56/100\n",
      "33/33 - 58s - loss: 0.5092 - accuracy: 0.7453 - val_loss: 0.4674 - val_accuracy: 0.7286 - 58s/epoch - 2s/step\n",
      "Epoch 57/100\n",
      "33/33 - 59s - loss: 0.4273 - accuracy: 0.7950 - val_loss: 0.8263 - val_accuracy: 0.7000 - 59s/epoch - 2s/step\n",
      "Epoch 58/100\n",
      "33/33 - 59s - loss: 0.5189 - accuracy: 0.7516 - val_loss: 0.4806 - val_accuracy: 0.7143 - 59s/epoch - 2s/step\n",
      "Epoch 59/100\n",
      "33/33 - 57s - loss: 0.5921 - accuracy: 0.7950 - val_loss: 0.5239 - val_accuracy: 0.7143 - 57s/epoch - 2s/step\n",
      "Epoch 60/100\n",
      "33/33 - 57s - loss: 0.4731 - accuracy: 0.7888 - val_loss: 0.5838 - val_accuracy: 0.7000 - 57s/epoch - 2s/step\n",
      "Epoch 61/100\n",
      "33/33 - 56s - loss: 0.4842 - accuracy: 0.7640 - val_loss: 0.5684 - val_accuracy: 0.7286 - 56s/epoch - 2s/step\n",
      "Epoch 62/100\n",
      "33/33 - 56s - loss: 0.4674 - accuracy: 0.7826 - val_loss: 0.6096 - val_accuracy: 0.7857 - 56s/epoch - 2s/step\n",
      "Epoch 63/100\n",
      "33/33 - 56s - loss: 0.5346 - accuracy: 0.7764 - val_loss: 0.5490 - val_accuracy: 0.7143 - 56s/epoch - 2s/step\n",
      "Epoch 64/100\n",
      "33/33 - 56s - loss: 0.4569 - accuracy: 0.7516 - val_loss: 0.4875 - val_accuracy: 0.7143 - 56s/epoch - 2s/step\n",
      "Epoch 65/100\n",
      "33/33 - 57s - loss: 0.5113 - accuracy: 0.8012 - val_loss: 0.5157 - val_accuracy: 0.6857 - 57s/epoch - 2s/step\n",
      "Epoch 66/100\n",
      "33/33 - 56s - loss: 0.4372 - accuracy: 0.7702 - val_loss: 0.6641 - val_accuracy: 0.7857 - 56s/epoch - 2s/step\n",
      "Epoch 67/100\n",
      "33/33 - 56s - loss: 0.4684 - accuracy: 0.7764 - val_loss: 0.4983 - val_accuracy: 0.7429 - 56s/epoch - 2s/step\n"
     ]
    },
    {
     "name": "stdout",
     "output_type": "stream",
     "text": [
      "Epoch 68/100\n",
      "33/33 - 57s - loss: 0.4823 - accuracy: 0.7888 - val_loss: 0.5486 - val_accuracy: 0.7857 - 57s/epoch - 2s/step\n",
      "Epoch 69/100\n",
      "33/33 - 56s - loss: 0.5242 - accuracy: 0.7826 - val_loss: 0.4740 - val_accuracy: 0.7429 - 56s/epoch - 2s/step\n",
      "Epoch 70/100\n",
      "33/33 - 57s - loss: 0.4578 - accuracy: 0.8012 - val_loss: 0.5809 - val_accuracy: 0.7571 - 57s/epoch - 2s/step\n",
      "Epoch 71/100\n",
      "33/33 - 56s - loss: 0.4685 - accuracy: 0.7764 - val_loss: 2.3347 - val_accuracy: 0.7571 - 56s/epoch - 2s/step\n",
      "Epoch 72/100\n",
      "33/33 - 57s - loss: 0.5072 - accuracy: 0.7888 - val_loss: 1.0336 - val_accuracy: 0.7286 - 57s/epoch - 2s/step\n",
      "Epoch 73/100\n",
      "33/33 - 56s - loss: 0.4859 - accuracy: 0.7702 - val_loss: 0.5230 - val_accuracy: 0.7429 - 56s/epoch - 2s/step\n",
      "Epoch 74/100\n",
      "33/33 - 57s - loss: 0.4324 - accuracy: 0.8012 - val_loss: 0.4834 - val_accuracy: 0.7286 - 57s/epoch - 2s/step\n",
      "Epoch 75/100\n",
      "33/33 - 57s - loss: 0.4410 - accuracy: 0.8012 - val_loss: 0.5616 - val_accuracy: 0.7286 - 57s/epoch - 2s/step\n",
      "Epoch 76/100\n",
      "33/33 - 57s - loss: 0.4216 - accuracy: 0.7826 - val_loss: 0.5629 - val_accuracy: 0.7429 - 57s/epoch - 2s/step\n",
      "Epoch 77/100\n",
      "33/33 - 56s - loss: 0.4791 - accuracy: 0.7888 - val_loss: 0.6320 - val_accuracy: 0.7286 - 56s/epoch - 2s/step\n",
      "Epoch 78/100\n",
      "33/33 - 57s - loss: 0.4735 - accuracy: 0.7764 - val_loss: 1.2330 - val_accuracy: 0.7286 - 57s/epoch - 2s/step\n",
      "Epoch 79/100\n",
      "33/33 - 57s - loss: 0.4462 - accuracy: 0.7764 - val_loss: 0.6011 - val_accuracy: 0.7571 - 57s/epoch - 2s/step\n",
      "Epoch 80/100\n",
      "33/33 - 56s - loss: 0.6847 - accuracy: 0.7826 - val_loss: 0.5132 - val_accuracy: 0.7714 - 56s/epoch - 2s/step\n",
      "Epoch 81/100\n",
      "33/33 - 57s - loss: 0.4685 - accuracy: 0.7826 - val_loss: 0.9273 - val_accuracy: 0.7571 - 57s/epoch - 2s/step\n",
      "Epoch 82/100\n",
      "33/33 - 56s - loss: 0.4391 - accuracy: 0.7826 - val_loss: 0.9065 - val_accuracy: 0.7571 - 56s/epoch - 2s/step\n",
      "Epoch 83/100\n",
      "33/33 - 57s - loss: 0.4733 - accuracy: 0.8075 - val_loss: 0.9393 - val_accuracy: 0.7857 - 57s/epoch - 2s/step\n",
      "Epoch 84/100\n",
      "33/33 - 56s - loss: 0.4323 - accuracy: 0.8075 - val_loss: 0.7228 - val_accuracy: 0.7714 - 56s/epoch - 2s/step\n",
      "Epoch 85/100\n",
      "33/33 - 56s - loss: 0.4146 - accuracy: 0.8012 - val_loss: 0.8122 - val_accuracy: 0.8000 - 56s/epoch - 2s/step\n",
      "Epoch 86/100\n",
      "33/33 - 57s - loss: 0.4064 - accuracy: 0.8323 - val_loss: 2.0660 - val_accuracy: 0.7571 - 57s/epoch - 2s/step\n",
      "Epoch 87/100\n",
      "33/33 - 56s - loss: 0.4422 - accuracy: 0.8012 - val_loss: 0.4777 - val_accuracy: 0.8000 - 56s/epoch - 2s/step\n",
      "Epoch 88/100\n",
      "33/33 - 56s - loss: 0.4450 - accuracy: 0.7888 - val_loss: 1.3302 - val_accuracy: 0.7286 - 56s/epoch - 2s/step\n",
      "Epoch 89/100\n",
      "33/33 - 56s - loss: 0.4383 - accuracy: 0.7826 - val_loss: 0.7095 - val_accuracy: 0.7571 - 56s/epoch - 2s/step\n",
      "Epoch 90/100\n",
      "33/33 - 56s - loss: 0.4279 - accuracy: 0.7826 - val_loss: 2.1044 - val_accuracy: 0.7571 - 56s/epoch - 2s/step\n",
      "Epoch 91/100\n",
      "33/33 - 57s - loss: 0.5325 - accuracy: 0.7950 - val_loss: 0.7920 - val_accuracy: 0.7571 - 57s/epoch - 2s/step\n",
      "Epoch 92/100\n",
      "33/33 - 56s - loss: 0.4453 - accuracy: 0.7764 - val_loss: 0.6481 - val_accuracy: 0.7714 - 56s/epoch - 2s/step\n",
      "Epoch 93/100\n",
      "33/33 - 56s - loss: 0.4387 - accuracy: 0.8012 - val_loss: 0.9914 - val_accuracy: 0.7571 - 56s/epoch - 2s/step\n",
      "Epoch 94/100\n",
      "33/33 - 57s - loss: 0.4114 - accuracy: 0.8199 - val_loss: 0.5632 - val_accuracy: 0.7143 - 57s/epoch - 2s/step\n",
      "Epoch 95/100\n",
      "33/33 - 57s - loss: 0.4150 - accuracy: 0.7950 - val_loss: 0.5878 - val_accuracy: 0.7429 - 57s/epoch - 2s/step\n",
      "Epoch 96/100\n",
      "33/33 - 57s - loss: 0.4389 - accuracy: 0.7888 - val_loss: 0.6274 - val_accuracy: 0.7857 - 57s/epoch - 2s/step\n",
      "Epoch 97/100\n",
      "33/33 - 58s - loss: 0.3975 - accuracy: 0.8385 - val_loss: 0.5954 - val_accuracy: 0.7571 - 58s/epoch - 2s/step\n",
      "Epoch 98/100\n",
      "33/33 - 57s - loss: 0.5543 - accuracy: 0.7888 - val_loss: 0.6642 - val_accuracy: 0.7857 - 57s/epoch - 2s/step\n",
      "Epoch 99/100\n",
      "33/33 - 56s - loss: 0.4294 - accuracy: 0.8075 - val_loss: 0.5350 - val_accuracy: 0.7286 - 56s/epoch - 2s/step\n",
      "Epoch 100/100\n",
      "33/33 - 56s - loss: 0.3856 - accuracy: 0.8447 - val_loss: 0.8433 - val_accuracy: 0.7857 - 56s/epoch - 2s/step\n",
      "INFO:tensorflow:Assets written to: Modelo_guardado\\assets\n"
     ]
    }
   ],
   "source": [
    "history = model.fit(train_generator,validation_data=validation_generator,epochs=100,verbose=2)\n",
    "model.save(model_path)"
   ]
  },
  {
   "cell_type": "code",
   "execution_count": 8,
   "metadata": {},
   "outputs": [
    {
     "name": "stdout",
     "output_type": "stream",
     "text": [
      "Pérdida: 0.8433176279067993 / Precisión: 0.7857142686843872\n"
     ]
    }
   ],
   "source": [
    "resultado = model.evaluate(validation_generator, verbose=0)\n",
    "print(f'Pérdida: {resultado[0]} / Precisión: {resultado[1]}')"
   ]
  },
  {
   "cell_type": "code",
   "execution_count": 9,
   "metadata": {},
   "outputs": [
    {
     "data": {
      "image/png": "[encoded data removed]",
      "text/plain": [
       "<Figure size 432x288 with 1 Axes>"
      ]
     },
     "metadata": {
      "needs_background": "light"
     },
     "output_type": "display_data"
    },
    {
     "data": {
      "image/png": "[encoded data removed]",
      "text/plain": [
       "<Figure size 432x288 with 1 Axes>"
      ]
     },
     "metadata": {
      "needs_background": "light"
     },
     "output_type": "display_data"
    }
   ],
   "source": [
    "#-----------------------------------------------------------\n",
    "# Recupero los valores para dibujar las gráficas\n",
    "#-----------------------------------------------------------\n",
    "acc = history.history['accuracy']\n",
    "val_acc = history.history['val_accuracy']\n",
    "loss = history.history['loss']\n",
    "val_loss = history.history['val_loss']\n",
    "\n",
    "epochs = range(len(acc))\n",
    "\n",
    "#------------------------------------------------\n",
    "# Accuracy vs val_accuracy\n",
    "#------------------------------------------------\n",
    "plt.plot(epochs, acc, 'b', label='Training accuracy')\n",
    "plt.plot(epochs, val_acc, 'r', label='Validation accuracy')\n",
    "plt.title('accuracy vs val_accuracy')\n",
    "plt.legend()\n",
    "\n",
    "plt.figure()\n",
    "\n",
    "#------------------------------------------------\n",
    "# Loss vs val_loss\n",
    "#------------------------------------------------\n",
    "plt.plot(epochs, loss, 'b', label='Training Loss')\n",
    "plt.plot(epochs, val_loss, 'r', label='Validation Loss')\n",
    "plt.title('loss vs val_loss')\n",
    "plt.legend()\n",
    "\n",
    "plt.show()"
   ]
  },
  {
   "cell_type": "markdown",
   "metadata": {},
   "source": [
    "## Función de clasificación"
   ]
  },
  {
   "cell_type": "code",
   "execution_count": 10,
   "metadata": {},
   "outputs": [],
   "source": [
    "def clasificacion(path):\n",
    "    img=image.load_img(path, target_size=(150, 150))\n",
    "  \n",
    "    x=image.img_to_array(img)\n",
    "    x=np.expand_dims(x, axis=0)\n",
    "    images = np.vstack([x])\n",
    "  \n",
    "    classes = model.predict(images)\n",
    "  \n",
    "    if classes[0]>0:\n",
    "        print(\"Está viva\")\n",
    "    else:\n",
    "        print(\"Está muerta\")"
   ]
  },
  {
   "cell_type": "markdown",
   "metadata": {},
   "source": [
    "# ----------------------------------------------------------------------------------------------------\n",
    "# Pruebas de clasificación\n",
    "# ----------------------------------------------------------------------------------------------------"
   ]
  },
  {
   "cell_type": "code",
   "execution_count": 11,
   "metadata": {
    "scrolled": true
   },
   "outputs": [
    {
     "name": "stdout",
     "output_type": "stream",
     "text": [
      "Está viva\n"
     ]
    }
   ],
   "source": [
    "#Directorio que contiene una foto de una gallina, independientemente de su estado, para su clasificación\n",
    "path='C:/Users/Saul/Desktop/SAUL/INFORMATICA/UBU 4º/2º semestre/TFG/Fotos_Proyecto_Detección_de_Bajas/Prediccion/I_10.jpg'\n",
    "\n",
    "clasificacion(path)"
   ]
  }
 ],
 "metadata": {
  "kernelspec": {
   "display_name": "Python 3",
   "language": "python",
   "name": "python3"
  },
  "language_info": {
   "codemirror_mode": {
    "name": "ipython",
    "version": 3
   },
   "file_extension": ".py",
   "mimetype": "text/x-python",
   "name": "python",
   "nbconvert_exporter": "python",
   "pygments_lexer": "ipython3",
   "version": "3.8.3"
  }
 },
 "nbformat": 4,
 "nbformat_minor": 4
}
