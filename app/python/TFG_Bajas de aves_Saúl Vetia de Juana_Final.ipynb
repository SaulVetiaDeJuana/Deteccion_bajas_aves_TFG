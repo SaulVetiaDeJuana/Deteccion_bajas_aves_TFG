{
 "cells": [
  {
   "cell_type": "markdown",
   "metadata": {},
   "source": [
    "# ---------------------------------------------------------------------------------------------------------\n",
    "# Librerías\n",
    "# ---------------------------------------------------------------------------------------------------------"
   ]
  },
  {
   "cell_type": "code",
   "execution_count": 1,
   "metadata": {},
   "outputs": [],
   "source": [
    "import urllib.request\n",
    "import os\n",
    "import zipfile\n",
    "\n",
    "import matplotlib.image as mpimg\n",
    "import matplotlib.pyplot as plt\n",
    "\n",
    "\n",
    "import tensorflow as tf\n",
    "\n",
    "from tensorflow.keras.optimizers import RMSprop\n",
    "from tensorflow.keras.preprocessing.image import ImageDataGenerator\n",
    "from tensorflow.keras.preprocessing import image\n",
    "\n",
    "\n",
    "import numpy as np"
   ]
  },
  {
   "cell_type": "markdown",
   "metadata": {},
   "source": [
    "## Ubicación de imágenes de modelo y de test."
   ]
  },
  {
   "cell_type": "code",
   "execution_count": 2,
   "metadata": {},
   "outputs": [],
   "source": [
    "#Directorio base\n",
    "base_dir = 'C:/Users/Saul/Desktop/SAUL/INFORMATICA/UBU 4º/2º semestre/TFG/Fotos_Proyecto_Detección_de_Bajas'\n",
    "\n",
    "train_dir = os.path.join(base_dir, 'Entrenamiento')\n",
    "validation_dir = os.path.join(base_dir, 'Validacion')\n",
    "\n",
    "# Directorio con las fotos de gallinas clasificadas\n",
    "train_alive_dir = os.path.join(train_dir, 'Gallinas_vivas')\n",
    "train_dead_dir = os.path.join(train_dir, 'Gallinas_muertas')\n",
    "\n",
    "# Directorio con las imágenes de modelo\n",
    "validation_alive_dir = os.path.join(validation_dir, 'Gallinas_vivas')\n",
    "validation_dead_dir = os.path.join(validation_dir, 'Gallinas_muertas')"
   ]
  },
  {
   "cell_type": "markdown",
   "metadata": {},
   "source": [
    "# ---------------------------------------------------------------------------------------------------------\n",
    "# PREPROCESAMIENTO DE LOS DATOS\n",
    "# ---------------------------------------------------------------------------------------------------------"
   ]
  },
  {
   "cell_type": "markdown",
   "metadata": {},
   "source": [
    "### Versión final"
   ]
  },
  {
   "cell_type": "code",
   "execution_count": 3,
   "metadata": {},
   "outputs": [],
   "source": [
    "model = tf.keras.models.Sequential([\n",
    "    # tf.keras.layers.Conv2D(filtros, tamaño_kernel, activacion, input_shape)\n",
    "    # input_size es la forma deseada de la imagen (150x150) con 3 bytes de color\n",
    "    # Bloque de convolución 1\n",
    "    tf.keras.layers.Conv2D(80, (3,3), activation='relu', input_shape=(150, 150, 3)),\n",
    "    tf.keras.layers.MaxPooling2D(2,2),\n",
    "    \n",
    "    # Bloque de convolución 2\n",
    "    tf.keras.layers.Conv2D(100, (3,3), activation='relu'),\n",
    "    tf.keras.layers.MaxPooling2D(2,2), \n",
    "    \n",
    "    # Bloque de convolución 3\n",
    "    tf.keras.layers.Conv2D(100, (3,3), activation='relu'),\n",
    "    tf.keras.layers.Conv2D(100, (3,3), activation='relu'), \n",
    "    tf.keras.layers.MaxPooling2D(2,2),\n",
    "    \n",
    "    #Dropout\n",
    "    tf.keras.layers.Dropout(0.25),\n",
    "    \n",
    "    # \"Aplana\" los resultados para pasárselos a una DNN (Deep neural network)\n",
    "    tf.keras.layers.Flatten(), \n",
    "    \n",
    "    # Neuronas de capa oculta: 512\n",
    "    tf.keras.layers.Dense(256, activation='relu'),\n",
    "    tf.keras.layers.Dense(32, activation='relu'),\n",
    "    \n",
    "    # Neurona de salida que devuelve dos valores: 0 para gallinas muertas y 1 para gallinas vivas.\n",
    "    tf.keras.layers.Dense(1, activation='sigmoid')  \n",
    "])"
   ]
  },
  {
   "cell_type": "code",
   "execution_count": 4,
   "metadata": {},
   "outputs": [],
   "source": [
    "from tensorflow.keras.optimizers import RMSprop\n",
    "\n",
    "model.compile(optimizer=RMSprop(learning_rate=0.001),\n",
    "              loss='binary_crossentropy',\n",
    "              metrics = ['accuracy'])"
   ]
  },
  {
   "cell_type": "code",
   "execution_count": 5,
   "metadata": {},
   "outputs": [
    {
     "name": "stdout",
     "output_type": "stream",
     "text": [
      "Found 161 images belonging to 2 classes.\n",
      "Found 70 images belonging to 2 classes.\n"
     ]
    }
   ],
   "source": [
    "# DATA AUGMENTATION: ROTACIÓN, BRILLO, VOLTEO, REESCALADO\n",
    "train_datagen = ImageDataGenerator(rotation_range=90, \n",
    "                                   brightness_range=(0.2, 0.8), \n",
    "                                   horizontal_flip=True, \n",
    "                                   vertical_flip=True, \n",
    "                                   rescale = 1.0/255.)\n",
    "\n",
    "test_datagen  = ImageDataGenerator( rescale = 1.0/255. )\n",
    "\n",
    "# ------------------------------------------------------------------------\n",
    "# Entrenamiento de las imágenes en lotes de 5 utilizando \"train_datagen\"\n",
    "# ------------------------------------------------------------------------\n",
    "train_generator = train_datagen.flow_from_directory(train_dir,\n",
    "                                                    batch_size=5,\n",
    "                                                    class_mode='binary',\n",
    "                                                    target_size=(150, 150))     \n",
    "\n",
    "# ------------------------------------------------------------------------\n",
    "# Validación de las imágenes en lotes de 5 utilizando \"test_datagen\"\n",
    "# ------------------------------------------------------------------------\n",
    "validation_generator =  test_datagen.flow_from_directory(validation_dir,\n",
    "                                                         batch_size=5,\n",
    "                                                         class_mode  = 'binary',\n",
    "                                                         target_size = (150, 150))"
   ]
  },
  {
   "cell_type": "markdown",
   "metadata": {},
   "source": [
    "## Entrenamiento"
   ]
  },
  {
   "cell_type": "code",
   "execution_count": 6,
   "metadata": {},
   "outputs": [
    {
     "name": "stdout",
     "output_type": "stream",
     "text": [
      "Epoch 1/100\n",
      "33/33 - 65s - loss: 0.9268 - accuracy: 0.7019 - val_loss: 0.6083 - val_accuracy: 0.7286 - 65s/epoch - 2s/step\n",
      "Epoch 2/100\n",
      "33/33 - 55s - loss: 0.7398 - accuracy: 0.7391 - val_loss: 0.5875 - val_accuracy: 0.7286 - 55s/epoch - 2s/step\n",
      "Epoch 3/100\n",
      "33/33 - 56s - loss: 0.6276 - accuracy: 0.7391 - val_loss: 0.6005 - val_accuracy: 0.7286 - 56s/epoch - 2s/step\n",
      "Epoch 4/100\n",
      "33/33 - 57s - loss: 0.6216 - accuracy: 0.7391 - val_loss: 0.5978 - val_accuracy: 0.7286 - 57s/epoch - 2s/step\n",
      "Epoch 5/100\n",
      "33/33 - 56s - loss: 0.6150 - accuracy: 0.7391 - val_loss: 0.6122 - val_accuracy: 0.7286 - 56s/epoch - 2s/step\n",
      "Epoch 6/100\n",
      "33/33 - 55s - loss: 0.5792 - accuracy: 0.7391 - val_loss: 0.6119 - val_accuracy: 0.7286 - 55s/epoch - 2s/step\n",
      "Epoch 7/100\n",
      "33/33 - 55s - loss: 0.6112 - accuracy: 0.7391 - val_loss: 0.5927 - val_accuracy: 0.7286 - 55s/epoch - 2s/step\n",
      "Epoch 8/100\n",
      "33/33 - 55s - loss: 0.5969 - accuracy: 0.7391 - val_loss: 0.5918 - val_accuracy: 0.7286 - 55s/epoch - 2s/step\n",
      "Epoch 9/100\n",
      "33/33 - 55s - loss: 0.5963 - accuracy: 0.7391 - val_loss: 0.6144 - val_accuracy: 0.7286 - 55s/epoch - 2s/step\n",
      "Epoch 10/100\n",
      "33/33 - 55s - loss: 0.6067 - accuracy: 0.7391 - val_loss: 0.5847 - val_accuracy: 0.7286 - 55s/epoch - 2s/step\n",
      "Epoch 11/100\n",
      "33/33 - 55s - loss: 0.6149 - accuracy: 0.7391 - val_loss: 0.5848 - val_accuracy: 0.7286 - 55s/epoch - 2s/step\n",
      "Epoch 12/100\n",
      "33/33 - 55s - loss: 0.5823 - accuracy: 0.7391 - val_loss: 0.6048 - val_accuracy: 0.7286 - 55s/epoch - 2s/step\n",
      "Epoch 13/100\n",
      "33/33 - 55s - loss: 0.5929 - accuracy: 0.7391 - val_loss: 0.5968 - val_accuracy: 0.7286 - 55s/epoch - 2s/step\n",
      "Epoch 14/100\n",
      "33/33 - 55s - loss: 0.5745 - accuracy: 0.7391 - val_loss: 0.6036 - val_accuracy: 0.7429 - 55s/epoch - 2s/step\n",
      "Epoch 15/100\n",
      "33/33 - 55s - loss: 0.5740 - accuracy: 0.7267 - val_loss: 0.6385 - val_accuracy: 0.7286 - 55s/epoch - 2s/step\n",
      "Epoch 16/100\n",
      "33/33 - 55s - loss: 0.5690 - accuracy: 0.7329 - val_loss: 0.5872 - val_accuracy: 0.6857 - 55s/epoch - 2s/step\n",
      "Epoch 17/100\n",
      "33/33 - 55s - loss: 0.5777 - accuracy: 0.7578 - val_loss: 0.5339 - val_accuracy: 0.7000 - 55s/epoch - 2s/step\n",
      "Epoch 18/100\n",
      "33/33 - 55s - loss: 0.4810 - accuracy: 0.7826 - val_loss: 0.6127 - val_accuracy: 0.7000 - 55s/epoch - 2s/step\n",
      "Epoch 19/100\n",
      "33/33 - 56s - loss: 0.5315 - accuracy: 0.7391 - val_loss: 0.6239 - val_accuracy: 0.6143 - 56s/epoch - 2s/step\n",
      "Epoch 20/100\n",
      "33/33 - 57s - loss: 0.5630 - accuracy: 0.7826 - val_loss: 0.5568 - val_accuracy: 0.7571 - 57s/epoch - 2s/step\n",
      "Epoch 21/100\n",
      "33/33 - 56s - loss: 0.4740 - accuracy: 0.7826 - val_loss: 0.5215 - val_accuracy: 0.7143 - 56s/epoch - 2s/step\n",
      "Epoch 22/100\n",
      "33/33 - 56s - loss: 0.5175 - accuracy: 0.7764 - val_loss: 0.7186 - val_accuracy: 0.7571 - 56s/epoch - 2s/step\n",
      "Epoch 23/100\n",
      "33/33 - 55s - loss: 0.5377 - accuracy: 0.7702 - val_loss: 1.0096 - val_accuracy: 0.7571 - 55s/epoch - 2s/step\n",
      "Epoch 24/100\n",
      "33/33 - 55s - loss: 0.5082 - accuracy: 0.7640 - val_loss: 0.5747 - val_accuracy: 0.7000 - 55s/epoch - 2s/step\n",
      "Epoch 25/100\n",
      "33/33 - 56s - loss: 0.5971 - accuracy: 0.7453 - val_loss: 0.5575 - val_accuracy: 0.7143 - 56s/epoch - 2s/step\n",
      "Epoch 26/100\n",
      "33/33 - 57s - loss: 0.4384 - accuracy: 0.8137 - val_loss: 0.8374 - val_accuracy: 0.7000 - 57s/epoch - 2s/step\n",
      "Epoch 27/100\n",
      "33/33 - 56s - loss: 0.4981 - accuracy: 0.7578 - val_loss: 0.5509 - val_accuracy: 0.6714 - 56s/epoch - 2s/step\n",
      "Epoch 28/100\n",
      "33/33 - 56s - loss: 0.4979 - accuracy: 0.7702 - val_loss: 0.4921 - val_accuracy: 0.7286 - 56s/epoch - 2s/step\n",
      "Epoch 29/100\n",
      "33/33 - 56s - loss: 0.4760 - accuracy: 0.7888 - val_loss: 0.6922 - val_accuracy: 0.7714 - 56s/epoch - 2s/step\n",
      "Epoch 30/100\n",
      "33/33 - 56s - loss: 0.4834 - accuracy: 0.7888 - val_loss: 0.7507 - val_accuracy: 0.7714 - 56s/epoch - 2s/step\n",
      "Epoch 31/100\n",
      "33/33 - 56s - loss: 0.5223 - accuracy: 0.7702 - val_loss: 0.5184 - val_accuracy: 0.7000 - 56s/epoch - 2s/step\n",
      "Epoch 32/100\n",
      "33/33 - 56s - loss: 0.4725 - accuracy: 0.7702 - val_loss: 0.5032 - val_accuracy: 0.7286 - 56s/epoch - 2s/step\n",
      "Epoch 33/100\n",
      "33/33 - 56s - loss: 0.4353 - accuracy: 0.7888 - val_loss: 0.5256 - val_accuracy: 0.7143 - 56s/epoch - 2s/step\n",
      "Epoch 34/100\n",
      "33/33 - 56s - loss: 0.4655 - accuracy: 0.7453 - val_loss: 0.5561 - val_accuracy: 0.6571 - 56s/epoch - 2s/step\n",
      "Epoch 35/100\n",
      "33/33 - 56s - loss: 0.4924 - accuracy: 0.7950 - val_loss: 0.7585 - val_accuracy: 0.6714 - 56s/epoch - 2s/step\n",
      "Epoch 36/100\n",
      "33/33 - 56s - loss: 0.5041 - accuracy: 0.7267 - val_loss: 0.5248 - val_accuracy: 0.7286 - 56s/epoch - 2s/step\n",
      "Epoch 37/100\n",
      "33/33 - 56s - loss: 0.4282 - accuracy: 0.8447 - val_loss: 0.7012 - val_accuracy: 0.7000 - 56s/epoch - 2s/step\n",
      "Epoch 38/100\n",
      "33/33 - 57s - loss: 0.4839 - accuracy: 0.7578 - val_loss: 1.0469 - val_accuracy: 0.7286 - 57s/epoch - 2s/step\n",
      "Epoch 39/100\n",
      "33/33 - 56s - loss: 0.5334 - accuracy: 0.7950 - val_loss: 0.6502 - val_accuracy: 0.6857 - 56s/epoch - 2s/step\n",
      "Epoch 40/100\n",
      "33/33 - 56s - loss: 0.4674 - accuracy: 0.7764 - val_loss: 0.5875 - val_accuracy: 0.7143 - 56s/epoch - 2s/step\n",
      "Epoch 41/100\n",
      "33/33 - 56s - loss: 0.4697 - accuracy: 0.7640 - val_loss: 2.3525 - val_accuracy: 0.7286 - 56s/epoch - 2s/step\n",
      "Epoch 42/100\n",
      "33/33 - 56s - loss: 0.5049 - accuracy: 0.7888 - val_loss: 0.4846 - val_accuracy: 0.6714 - 56s/epoch - 2s/step\n",
      "Epoch 43/100\n",
      "33/33 - 56s - loss: 0.4750 - accuracy: 0.7764 - val_loss: 0.5797 - val_accuracy: 0.7143 - 56s/epoch - 2s/step\n",
      "Epoch 44/100\n",
      "33/33 - 56s - loss: 0.4704 - accuracy: 0.7826 - val_loss: 1.0983 - val_accuracy: 0.7571 - 56s/epoch - 2s/step\n",
      "Epoch 45/100\n",
      "33/33 - 56s - loss: 0.5137 - accuracy: 0.7516 - val_loss: 0.4945 - val_accuracy: 0.7571 - 56s/epoch - 2s/step\n",
      "Epoch 46/100\n",
      "33/33 - 56s - loss: 0.4780 - accuracy: 0.7453 - val_loss: 0.5131 - val_accuracy: 0.7714 - 56s/epoch - 2s/step\n",
      "Epoch 47/100\n",
      "33/33 - 56s - loss: 0.4803 - accuracy: 0.7826 - val_loss: 0.6772 - val_accuracy: 0.7143 - 56s/epoch - 2s/step\n",
      "Epoch 48/100\n",
      "33/33 - 58s - loss: 0.8259 - accuracy: 0.7826 - val_loss: 0.6199 - val_accuracy: 0.6857 - 58s/epoch - 2s/step\n",
      "Epoch 49/100\n",
      "33/33 - 58s - loss: 0.5643 - accuracy: 0.7826 - val_loss: 0.4812 - val_accuracy: 0.6857 - 58s/epoch - 2s/step\n",
      "Epoch 50/100\n",
      "33/33 - 57s - loss: 0.4548 - accuracy: 0.8012 - val_loss: 0.5074 - val_accuracy: 0.7143 - 57s/epoch - 2s/step\n",
      "Epoch 51/100\n",
      "33/33 - 57s - loss: 0.4622 - accuracy: 0.7950 - val_loss: 0.5297 - val_accuracy: 0.7143 - 57s/epoch - 2s/step\n",
      "Epoch 52/100\n",
      "33/33 - 57s - loss: 0.4257 - accuracy: 0.7950 - val_loss: 0.5830 - val_accuracy: 0.7571 - 57s/epoch - 2s/step\n",
      "Epoch 53/100\n",
      "33/33 - 57s - loss: 1.1419 - accuracy: 0.8199 - val_loss: 0.5293 - val_accuracy: 0.7000 - 57s/epoch - 2s/step\n",
      "Epoch 54/100\n",
      "33/33 - 57s - loss: 0.4103 - accuracy: 0.8199 - val_loss: 0.6553 - val_accuracy: 0.7143 - 57s/epoch - 2s/step\n",
      "Epoch 55/100\n",
      "33/33 - 57s - loss: 0.4312 - accuracy: 0.8137 - val_loss: 0.8390 - val_accuracy: 0.7714 - 57s/epoch - 2s/step\n",
      "Epoch 56/100\n",
      "33/33 - 57s - loss: 0.5199 - accuracy: 0.7516 - val_loss: 0.4813 - val_accuracy: 0.7714 - 57s/epoch - 2s/step\n",
      "Epoch 57/100\n",
      "33/33 - 56s - loss: 0.4002 - accuracy: 0.8075 - val_loss: 0.5532 - val_accuracy: 0.7429 - 56s/epoch - 2s/step\n",
      "Epoch 58/100\n",
      "33/33 - 57s - loss: 0.4490 - accuracy: 0.7826 - val_loss: 0.6633 - val_accuracy: 0.7429 - 57s/epoch - 2s/step\n",
      "Epoch 59/100\n",
      "33/33 - 57s - loss: 0.4792 - accuracy: 0.7826 - val_loss: 0.5490 - val_accuracy: 0.6714 - 57s/epoch - 2s/step\n",
      "Epoch 60/100\n",
      "33/33 - 57s - loss: 0.4804 - accuracy: 0.7516 - val_loss: 0.5867 - val_accuracy: 0.7286 - 57s/epoch - 2s/step\n",
      "Epoch 61/100\n",
      "33/33 - 56s - loss: 0.4149 - accuracy: 0.7950 - val_loss: 0.6175 - val_accuracy: 0.7429 - 56s/epoch - 2s/step\n",
      "Epoch 62/100\n",
      "33/33 - 57s - loss: 0.4471 - accuracy: 0.7826 - val_loss: 0.8493 - val_accuracy: 0.7571 - 57s/epoch - 2s/step\n",
      "Epoch 63/100\n",
      "33/33 - 58s - loss: 0.4361 - accuracy: 0.8012 - val_loss: 0.6336 - val_accuracy: 0.7000 - 58s/epoch - 2s/step\n",
      "Epoch 64/100\n",
      "33/33 - 57s - loss: 0.4365 - accuracy: 0.7702 - val_loss: 0.5467 - val_accuracy: 0.7286 - 57s/epoch - 2s/step\n",
      "Epoch 65/100\n",
      "33/33 - 57s - loss: 0.4352 - accuracy: 0.8075 - val_loss: 0.6186 - val_accuracy: 0.6571 - 57s/epoch - 2s/step\n",
      "Epoch 66/100\n",
      "33/33 - 57s - loss: 0.4301 - accuracy: 0.7888 - val_loss: 0.6995 - val_accuracy: 0.7143 - 57s/epoch - 2s/step\n",
      "Epoch 67/100\n",
      "33/33 - 57s - loss: 0.5914 - accuracy: 0.7826 - val_loss: 0.5465 - val_accuracy: 0.7286 - 57s/epoch - 2s/step\n"
     ]
    },
    {
     "name": "stdout",
     "output_type": "stream",
     "text": [
      "Epoch 68/100\n",
      "33/33 - 57s - loss: 0.4179 - accuracy: 0.7888 - val_loss: 1.0069 - val_accuracy: 0.7143 - 57s/epoch - 2s/step\n",
      "Epoch 69/100\n",
      "33/33 - 56s - loss: 0.4880 - accuracy: 0.7950 - val_loss: 1.2654 - val_accuracy: 0.7286 - 56s/epoch - 2s/step\n",
      "Epoch 70/100\n",
      "33/33 - 57s - loss: 0.4402 - accuracy: 0.7578 - val_loss: 0.5677 - val_accuracy: 0.7571 - 57s/epoch - 2s/step\n",
      "Epoch 71/100\n",
      "33/33 - 57s - loss: 0.4441 - accuracy: 0.7826 - val_loss: 0.8919 - val_accuracy: 0.7286 - 57s/epoch - 2s/step\n",
      "Epoch 72/100\n",
      "33/33 - 56s - loss: 0.5412 - accuracy: 0.7950 - val_loss: 1.0729 - val_accuracy: 0.7143 - 56s/epoch - 2s/step\n",
      "Epoch 73/100\n",
      "33/33 - 57s - loss: 0.5288 - accuracy: 0.7267 - val_loss: 0.4460 - val_accuracy: 0.7714 - 57s/epoch - 2s/step\n",
      "Epoch 74/100\n",
      "33/33 - 57s - loss: 0.5531 - accuracy: 0.8137 - val_loss: 0.7365 - val_accuracy: 0.7429 - 57s/epoch - 2s/step\n",
      "Epoch 75/100\n",
      "33/33 - 57s - loss: 0.4478 - accuracy: 0.7702 - val_loss: 0.6771 - val_accuracy: 0.7429 - 57s/epoch - 2s/step\n",
      "Epoch 76/100\n",
      "33/33 - 57s - loss: 0.4289 - accuracy: 0.7826 - val_loss: 0.6736 - val_accuracy: 0.7429 - 57s/epoch - 2s/step\n",
      "Epoch 77/100\n",
      "33/33 - 57s - loss: 0.4641 - accuracy: 0.7640 - val_loss: 0.4865 - val_accuracy: 0.7143 - 57s/epoch - 2s/step\n",
      "Epoch 78/100\n",
      "33/33 - 56s - loss: 0.4237 - accuracy: 0.7950 - val_loss: 0.7557 - val_accuracy: 0.7429 - 56s/epoch - 2s/step\n",
      "Epoch 79/100\n",
      "33/33 - 57s - loss: 0.5145 - accuracy: 0.8199 - val_loss: 0.5866 - val_accuracy: 0.7714 - 57s/epoch - 2s/step\n",
      "Epoch 80/100\n",
      "33/33 - 56s - loss: 0.4422 - accuracy: 0.7950 - val_loss: 0.4604 - val_accuracy: 0.7429 - 56s/epoch - 2s/step\n",
      "Epoch 81/100\n",
      "33/33 - 57s - loss: 0.3799 - accuracy: 0.8199 - val_loss: 0.6923 - val_accuracy: 0.7429 - 57s/epoch - 2s/step\n",
      "Epoch 82/100\n",
      "33/33 - 56s - loss: 0.4482 - accuracy: 0.7950 - val_loss: 0.5395 - val_accuracy: 0.7429 - 56s/epoch - 2s/step\n",
      "Epoch 83/100\n",
      "33/33 - 57s - loss: 0.5903 - accuracy: 0.7516 - val_loss: 0.5036 - val_accuracy: 0.7857 - 57s/epoch - 2s/step\n",
      "Epoch 84/100\n",
      "33/33 - 56s - loss: 0.4581 - accuracy: 0.8137 - val_loss: 0.4987 - val_accuracy: 0.7857 - 56s/epoch - 2s/step\n",
      "Epoch 85/100\n",
      "33/33 - 57s - loss: 0.4104 - accuracy: 0.8323 - val_loss: 0.8081 - val_accuracy: 0.8143 - 57s/epoch - 2s/step\n",
      "Epoch 86/100\n",
      "33/33 - 57s - loss: 0.4155 - accuracy: 0.7950 - val_loss: 0.6567 - val_accuracy: 0.7571 - 57s/epoch - 2s/step\n",
      "Epoch 87/100\n",
      "33/33 - 57s - loss: 0.4685 - accuracy: 0.7888 - val_loss: 0.8919 - val_accuracy: 0.7429 - 57s/epoch - 2s/step\n",
      "Epoch 88/100\n",
      "33/33 - 57s - loss: 0.4689 - accuracy: 0.8137 - val_loss: 0.6974 - val_accuracy: 0.7143 - 57s/epoch - 2s/step\n",
      "Epoch 89/100\n",
      "33/33 - 57s - loss: 0.4985 - accuracy: 0.8137 - val_loss: 0.9837 - val_accuracy: 0.7429 - 57s/epoch - 2s/step\n",
      "Epoch 90/100\n",
      "33/33 - 57s - loss: 0.5045 - accuracy: 0.7826 - val_loss: 0.7583 - val_accuracy: 0.7143 - 57s/epoch - 2s/step\n",
      "Epoch 91/100\n",
      "33/33 - 57s - loss: 0.4446 - accuracy: 0.8137 - val_loss: 1.8013 - val_accuracy: 0.7714 - 57s/epoch - 2s/step\n",
      "Epoch 92/100\n",
      "33/33 - 56s - loss: 0.5247 - accuracy: 0.7640 - val_loss: 0.7841 - val_accuracy: 0.7571 - 56s/epoch - 2s/step\n",
      "Epoch 93/100\n",
      "33/33 - 57s - loss: 0.4077 - accuracy: 0.7888 - val_loss: 0.5369 - val_accuracy: 0.7429 - 57s/epoch - 2s/step\n",
      "Epoch 94/100\n",
      "33/33 - 56s - loss: 0.4209 - accuracy: 0.7764 - val_loss: 0.6335 - val_accuracy: 0.7000 - 56s/epoch - 2s/step\n",
      "Epoch 95/100\n",
      "33/33 - 56s - loss: 0.4294 - accuracy: 0.8261 - val_loss: 0.7182 - val_accuracy: 0.6857 - 56s/epoch - 2s/step\n",
      "Epoch 96/100\n",
      "33/33 - 56s - loss: 0.4005 - accuracy: 0.8261 - val_loss: 1.3574 - val_accuracy: 0.7857 - 56s/epoch - 2s/step\n",
      "Epoch 97/100\n",
      "33/33 - 56s - loss: 0.3887 - accuracy: 0.7826 - val_loss: 0.8899 - val_accuracy: 0.7571 - 56s/epoch - 2s/step\n",
      "Epoch 98/100\n",
      "33/33 - 57s - loss: 0.7889 - accuracy: 0.7764 - val_loss: 1.3751 - val_accuracy: 0.7286 - 57s/epoch - 2s/step\n",
      "Epoch 99/100\n",
      "33/33 - 57s - loss: 0.4176 - accuracy: 0.8137 - val_loss: 0.4419 - val_accuracy: 0.7857 - 57s/epoch - 2s/step\n",
      "Epoch 100/100\n",
      "33/33 - 57s - loss: 0.4443 - accuracy: 0.7950 - val_loss: 2.6830 - val_accuracy: 0.7571 - 57s/epoch - 2s/step\n"
     ]
    }
   ],
   "source": [
    "history = model.fit(train_generator,\n",
    "                              validation_data=validation_generator,\n",
    "                              epochs=100,\n",
    "                              verbose=2)"
   ]
  },
  {
   "cell_type": "code",
   "execution_count": 7,
   "metadata": {},
   "outputs": [
    {
     "name": "stdout",
     "output_type": "stream",
     "text": [
      "Pérdida: 2.6829898357391357 / Precisión: 0.7571428418159485\n"
     ]
    }
   ],
   "source": [
    "resultado = model.evaluate(validation_generator, verbose=0)\n",
    "print(f'Pérdida: {resultado[0]} / Precisión: {resultado[1]}')"
   ]
  },
  {
   "cell_type": "code",
   "execution_count": 8,
   "metadata": {},
   "outputs": [
    {
     "data": {
      "image/png": "[encoded data removed]",
      "text/plain": [
       "<Figure size 432x288 with 1 Axes>"
      ]
     },
     "metadata": {
      "needs_background": "light"
     },
     "output_type": "display_data"
    },
    {
     "data": {
      "image/png": "[encoded data removed]",
      "text/plain": [
       "<Figure size 432x288 with 1 Axes>"
      ]
     },
     "metadata": {
      "needs_background": "light"
     },
     "output_type": "display_data"
    }
   ],
   "source": [
    "#-----------------------------------------------------------\n",
    "# Recupero los valores para dibujar las gráficas\n",
    "#-----------------------------------------------------------\n",
    "acc = history.history['accuracy']\n",
    "val_acc = history.history['val_accuracy']\n",
    "loss = history.history['loss']\n",
    "val_loss = history.history['val_loss']\n",
    "\n",
    "epochs = range(len(acc))\n",
    "\n",
    "#------------------------------------------------\n",
    "# Accuracy vs val_accuracy\n",
    "#------------------------------------------------\n",
    "plt.plot(epochs, acc, 'b', label='Training accuracy')\n",
    "plt.plot(epochs, val_acc, 'r', label='Validation accuracy')\n",
    "plt.title('accuracy vs val_accuracy')\n",
    "plt.legend()\n",
    "\n",
    "plt.figure()\n",
    "\n",
    "#------------------------------------------------\n",
    "# Loss vs val_loss\n",
    "#------------------------------------------------\n",
    "plt.plot(epochs, loss, 'b', label='Training Loss')\n",
    "plt.plot(epochs, val_loss, 'r', label='Validation Loss')\n",
    "plt.title('loss vs val_loss')\n",
    "plt.legend()\n",
    "\n",
    "plt.show()"
   ]
  },
  {
   "cell_type": "markdown",
   "metadata": {},
   "source": [
    "## Función de clasificación"
   ]
  },
  {
   "cell_type": "code",
   "execution_count": 40,
   "metadata": {},
   "outputs": [],
   "source": [
    "def clasificacion(path):\n",
    "    img=image.load_img(path, target_size=(150, 150))\n",
    "  \n",
    "    x=image.img_to_array(img)\n",
    "    x=np.expand_dims(x, axis=0)\n",
    "    images = np.vstack([x])\n",
    "  \n",
    "    classes = model.predict(images)\n",
    "  \n",
    "    if classes[0]>0:\n",
    "        print(\"Está viva\")\n",
    "    else:\n",
    "        print(\"Está muerta\")"
   ]
  },
  {
   "cell_type": "markdown",
   "metadata": {},
   "source": [
    "# ----------------------------------------------------------------------------------------------------\n",
    "# Pruebas de clasificación\n",
    "# ----------------------------------------------------------------------------------------------------"
   ]
  },
  {
   "cell_type": "code",
   "execution_count": 49,
   "metadata": {
    "scrolled": true
   },
   "outputs": [
    {
     "name": "stdout",
     "output_type": "stream",
     "text": [
      "Está muerta\n"
     ]
    }
   ],
   "source": [
    "#Directorio que contiene una foto de una gallina, independientemente de su estado, para su clasificación\n",
    "path='C:/Users/Saul/Desktop/SAUL/INFORMATICA/UBU 4º/2º semestre/TFG/Fotos_Proyecto_Detección_de_Bajas/Prediccion/I_10.jpg'\n",
    "\n",
    "clasificacion(path)"
   ]
  },
  {
   "cell_type": "code",
   "execution_count": null,
   "metadata": {},
   "outputs": [],
   "source": []
  }
 ],
 "metadata": {
  "kernelspec": {
   "display_name": "Python 3",
   "language": "python",
   "name": "python3"
  },
  "language_info": {
   "codemirror_mode": {
    "name": "ipython",
    "version": 3
   },
   "file_extension": ".py",
   "mimetype": "text/x-python",
   "name": "python",
   "nbconvert_exporter": "python",
   "pygments_lexer": "ipython3",
   "version": "3.8.3"
  }
 },
 "nbformat": 4,
 "nbformat_minor": 4
}
